{
 "cells": [
  {
   "cell_type": "code",
   "execution_count": 4,
   "metadata": {},
   "outputs": [
    {
     "name": "stderr",
     "output_type": "stream",
     "text": [
      "/home/rasoluci/anaconda3/lib/python3.7/site-packages/statsmodels/tools/_testing.py:19: FutureWarning: pandas.util.testing is deprecated. Use the functions in the public API at pandas.testing instead.\n",
      "  import pandas.util.testing as tm\n",
      "[nltk_data] Downloading package punkt to /home/rasoluci/nltk_data...\n",
      "[nltk_data]   Package punkt is already up-to-date!\n"
     ]
    }
   ],
   "source": [
    "import numpy as np\n",
    "import pandas as pd\n",
    "import matplotlib.pyplot as plt\n",
    "from matplotlib.lines import Line2D\n",
    "import seaborn as sns\n",
    "import matplotlib\n",
    "\n",
    "import tensorflow as tf\n",
    "from tensorflow.keras.preprocessing.text import Tokenizer as Tokenizer_keras\n",
    "import tensorflow_hub as hub\n",
    "\n",
    "\n",
    "import nltk\n",
    "from nltk.tokenize import word_tokenize\n",
    "from nltk.stem.snowball import SnowballStemmer\n",
    "from nltk.corpus import stopwords\n",
    "nltk.download('punkt')\n",
    "import string\n",
    "\n",
    "from sklearn.feature_extraction.text import TfidfVectorizer\n",
    "from sklearn.linear_model import LogisticRegression\n",
    "from sklearn.model_selection import GridSearchCV\n",
    "from sklearn.pipeline import Pipeline\n",
    "from sklearn.base import BaseEstimator, TransformerMixin\n",
    "from sklearn.model_selection import train_test_split\n",
    "\n",
    "matplotlib.rcParams['figure.figsize'] = (15.0, 7.0)"
   ]
  },
  {
   "cell_type": "markdown",
   "metadata": {},
   "source": [
    "## data preparation"
   ]
  },
  {
   "cell_type": "code",
   "execution_count": 5,
   "metadata": {},
   "outputs": [],
   "source": [
    "rawData = pd.read_csv(\"data/train.csv\")\n",
    "rawData['lowerCase']=rawData['text'].apply(str.lower)\n",
    "target = rawData.target"
   ]
  },
  {
   "cell_type": "code",
   "execution_count": 6,
   "metadata": {},
   "outputs": [
    {
     "data": {
      "text/html": [
       "<div>\n",
       "<style scoped>\n",
       "    .dataframe tbody tr th:only-of-type {\n",
       "        vertical-align: middle;\n",
       "    }\n",
       "\n",
       "    .dataframe tbody tr th {\n",
       "        vertical-align: top;\n",
       "    }\n",
       "\n",
       "    .dataframe thead th {\n",
       "        text-align: right;\n",
       "    }\n",
       "</style>\n",
       "<table border=\"1\" class=\"dataframe\">\n",
       "  <thead>\n",
       "    <tr style=\"text-align: right;\">\n",
       "      <th></th>\n",
       "      <th>id</th>\n",
       "      <th>keyword</th>\n",
       "      <th>location</th>\n",
       "      <th>text</th>\n",
       "      <th>target</th>\n",
       "      <th>lowerCase</th>\n",
       "    </tr>\n",
       "  </thead>\n",
       "  <tbody>\n",
       "    <tr>\n",
       "      <th>0</th>\n",
       "      <td>1</td>\n",
       "      <td>NaN</td>\n",
       "      <td>NaN</td>\n",
       "      <td>Our Deeds are the Reason of this #earthquake M...</td>\n",
       "      <td>1</td>\n",
       "      <td>our deeds are the reason of this #earthquake m...</td>\n",
       "    </tr>\n",
       "    <tr>\n",
       "      <th>1</th>\n",
       "      <td>4</td>\n",
       "      <td>NaN</td>\n",
       "      <td>NaN</td>\n",
       "      <td>Forest fire near La Ronge Sask. Canada</td>\n",
       "      <td>1</td>\n",
       "      <td>forest fire near la ronge sask. canada</td>\n",
       "    </tr>\n",
       "    <tr>\n",
       "      <th>2</th>\n",
       "      <td>5</td>\n",
       "      <td>NaN</td>\n",
       "      <td>NaN</td>\n",
       "      <td>All residents asked to 'shelter in place' are ...</td>\n",
       "      <td>1</td>\n",
       "      <td>all residents asked to 'shelter in place' are ...</td>\n",
       "    </tr>\n",
       "    <tr>\n",
       "      <th>3</th>\n",
       "      <td>6</td>\n",
       "      <td>NaN</td>\n",
       "      <td>NaN</td>\n",
       "      <td>13,000 people receive #wildfires evacuation or...</td>\n",
       "      <td>1</td>\n",
       "      <td>13,000 people receive #wildfires evacuation or...</td>\n",
       "    </tr>\n",
       "    <tr>\n",
       "      <th>4</th>\n",
       "      <td>7</td>\n",
       "      <td>NaN</td>\n",
       "      <td>NaN</td>\n",
       "      <td>Just got sent this photo from Ruby #Alaska as ...</td>\n",
       "      <td>1</td>\n",
       "      <td>just got sent this photo from ruby #alaska as ...</td>\n",
       "    </tr>\n",
       "    <tr>\n",
       "      <th>...</th>\n",
       "      <td>...</td>\n",
       "      <td>...</td>\n",
       "      <td>...</td>\n",
       "      <td>...</td>\n",
       "      <td>...</td>\n",
       "      <td>...</td>\n",
       "    </tr>\n",
       "    <tr>\n",
       "      <th>7608</th>\n",
       "      <td>10869</td>\n",
       "      <td>NaN</td>\n",
       "      <td>NaN</td>\n",
       "      <td>Two giant cranes holding a bridge collapse int...</td>\n",
       "      <td>1</td>\n",
       "      <td>two giant cranes holding a bridge collapse int...</td>\n",
       "    </tr>\n",
       "    <tr>\n",
       "      <th>7609</th>\n",
       "      <td>10870</td>\n",
       "      <td>NaN</td>\n",
       "      <td>NaN</td>\n",
       "      <td>@aria_ahrary @TheTawniest The out of control w...</td>\n",
       "      <td>1</td>\n",
       "      <td>@aria_ahrary @thetawniest the out of control w...</td>\n",
       "    </tr>\n",
       "    <tr>\n",
       "      <th>7610</th>\n",
       "      <td>10871</td>\n",
       "      <td>NaN</td>\n",
       "      <td>NaN</td>\n",
       "      <td>M1.94 [01:04 UTC]?5km S of Volcano Hawaii. htt...</td>\n",
       "      <td>1</td>\n",
       "      <td>m1.94 [01:04 utc]?5km s of volcano hawaii. htt...</td>\n",
       "    </tr>\n",
       "    <tr>\n",
       "      <th>7611</th>\n",
       "      <td>10872</td>\n",
       "      <td>NaN</td>\n",
       "      <td>NaN</td>\n",
       "      <td>Police investigating after an e-bike collided ...</td>\n",
       "      <td>1</td>\n",
       "      <td>police investigating after an e-bike collided ...</td>\n",
       "    </tr>\n",
       "    <tr>\n",
       "      <th>7612</th>\n",
       "      <td>10873</td>\n",
       "      <td>NaN</td>\n",
       "      <td>NaN</td>\n",
       "      <td>The Latest: More Homes Razed by Northern Calif...</td>\n",
       "      <td>1</td>\n",
       "      <td>the latest: more homes razed by northern calif...</td>\n",
       "    </tr>\n",
       "  </tbody>\n",
       "</table>\n",
       "<p>7613 rows × 6 columns</p>\n",
       "</div>"
      ],
      "text/plain": [
       "         id keyword location  \\\n",
       "0         1     NaN      NaN   \n",
       "1         4     NaN      NaN   \n",
       "2         5     NaN      NaN   \n",
       "3         6     NaN      NaN   \n",
       "4         7     NaN      NaN   \n",
       "...     ...     ...      ...   \n",
       "7608  10869     NaN      NaN   \n",
       "7609  10870     NaN      NaN   \n",
       "7610  10871     NaN      NaN   \n",
       "7611  10872     NaN      NaN   \n",
       "7612  10873     NaN      NaN   \n",
       "\n",
       "                                                   text  target  \\\n",
       "0     Our Deeds are the Reason of this #earthquake M...       1   \n",
       "1                Forest fire near La Ronge Sask. Canada       1   \n",
       "2     All residents asked to 'shelter in place' are ...       1   \n",
       "3     13,000 people receive #wildfires evacuation or...       1   \n",
       "4     Just got sent this photo from Ruby #Alaska as ...       1   \n",
       "...                                                 ...     ...   \n",
       "7608  Two giant cranes holding a bridge collapse int...       1   \n",
       "7609  @aria_ahrary @TheTawniest The out of control w...       1   \n",
       "7610  M1.94 [01:04 UTC]?5km S of Volcano Hawaii. htt...       1   \n",
       "7611  Police investigating after an e-bike collided ...       1   \n",
       "7612  The Latest: More Homes Razed by Northern Calif...       1   \n",
       "\n",
       "                                              lowerCase  \n",
       "0     our deeds are the reason of this #earthquake m...  \n",
       "1                forest fire near la ronge sask. canada  \n",
       "2     all residents asked to 'shelter in place' are ...  \n",
       "3     13,000 people receive #wildfires evacuation or...  \n",
       "4     just got sent this photo from ruby #alaska as ...  \n",
       "...                                                 ...  \n",
       "7608  two giant cranes holding a bridge collapse int...  \n",
       "7609  @aria_ahrary @thetawniest the out of control w...  \n",
       "7610  m1.94 [01:04 utc]?5km s of volcano hawaii. htt...  \n",
       "7611  police investigating after an e-bike collided ...  \n",
       "7612  the latest: more homes razed by northern calif...  \n",
       "\n",
       "[7613 rows x 6 columns]"
      ]
     },
     "execution_count": 6,
     "metadata": {},
     "output_type": "execute_result"
    }
   ],
   "source": [
    "rawData"
   ]
  },
  {
   "cell_type": "code",
   "execution_count": 7,
   "metadata": {},
   "outputs": [],
   "source": [
    "df_train, df_dev, y_train, y_dev = train_test_split(rawData, target, test_size=0.33)\n",
    "\n",
    "y_train = np.asarray(y_train).astype('float32')\n",
    "y_dev = np.asarray(y_dev).astype('float32')"
   ]
  },
  {
   "cell_type": "markdown",
   "metadata": {},
   "source": [
    "# Modelling"
   ]
  },
  {
   "cell_type": "markdown",
   "metadata": {},
   "source": [
    "## Classic ML model"
   ]
  },
  {
   "cell_type": "markdown",
   "metadata": {},
   "source": [
    "## Use of Pipeline"
   ]
  },
  {
   "cell_type": "code",
   "execution_count": 10,
   "metadata": {},
   "outputs": [],
   "source": [
    "class TfIdfPreprocess(BaseEstimator, TransformerMixin):\n",
    "    def __init__(self,columnName): # no *args or **kargs\n",
    "        self.columnName = columnName\n",
    "        \n",
    "    def fit(self, X, y=None):\n",
    "         return self # nothing else to do\n",
    "        \n",
    "    def transform(self, X, y=None):\n",
    "        \n",
    "        excludeAll = set(string.punctuation)\n",
    "        englishStopwords = stopwords.words('english')\n",
    "        snowball = SnowballStemmer(language = 'english')\n",
    "        def stemAndRemoveStopW(text):\n",
    "            return \" \".join([snowball.stem(w) for w in word_tokenize(str(text)) if w not in englishStopwords]) \n",
    "        \n",
    "        no_punct = X[self.columnName].apply(lambda text: \"\".join([c for c in text if c not in excludeAll]))\n",
    "        stemmedNoStopWords = no_punct.apply(stemAndRemoveStopW)\n",
    "        return stemmedNoStopWords"
   ]
  },
  {
   "cell_type": "code",
   "execution_count": 11,
   "metadata": {},
   "outputs": [],
   "source": [
    "pipe = Pipeline([\n",
    "    ('preprocess',TfIdfPreprocess('lowerCase')),\n",
    "    ('tdfIdf',TfidfVectorizer()),\n",
    "    ('linearModel',LogisticRegression(penalty='l1'))\n",
    "])"
   ]
  },
  {
   "cell_type": "code",
   "execution_count": 39,
   "metadata": {},
   "outputs": [
    {
     "data": {
      "text/plain": [
       "'!\"#$%&\\'()*+,-./:;<=>?@[\\\\]^_`{|}~ '"
      ]
     },
     "execution_count": 39,
     "metadata": {},
     "output_type": "execute_result"
    }
   ],
   "source": [
    "string.punctuation+ \" \""
   ]
  },
  {
   "cell_type": "code",
   "execution_count": null,
   "metadata": {},
   "outputs": [],
   "source": []
  },
  {
   "cell_type": "code",
   "execution_count": 12,
   "metadata": {},
   "outputs": [
    {
     "name": "stderr",
     "output_type": "stream",
     "text": [
      "/home/rasoluci/anaconda3/lib/python3.7/site-packages/sklearn/linear_model/logistic.py:432: FutureWarning: Default solver will be changed to 'lbfgs' in 0.22. Specify a solver to silence this warning.\n",
      "  FutureWarning)\n"
     ]
    }
   ],
   "source": [
    "pipeModel = pipe.fit(df_train,y_train)"
   ]
  },
  {
   "cell_type": "code",
   "execution_count": 13,
   "metadata": {},
   "outputs": [
    {
     "data": {
      "text/plain": [
       "0.7699960206923995"
      ]
     },
     "execution_count": 13,
     "metadata": {},
     "output_type": "execute_result"
    }
   ],
   "source": [
    "pipeModel.score(df_dev,y_dev)"
   ]
  },
  {
   "cell_type": "markdown",
   "metadata": {},
   "source": [
    "## gridSearch"
   ]
  },
  {
   "cell_type": "code",
   "execution_count": 14,
   "metadata": {},
   "outputs": [],
   "source": [
    "parameters = {'linearModel__C':[0.1, 0.5,1,5, 10, 100,1000]}\n",
    "gsPipeModel = GridSearchCV(pipeModel, parameters)#, scoring=None, n_jobs=None, iid='deprecated', refit=True, cv=None, verbose=0, pre_dispatch='2*n_jobs', error_score=nan, return_train_score=False)[source]¶"
   ]
  },
  {
   "cell_type": "code",
   "execution_count": 15,
   "metadata": {},
   "outputs": [
    {
     "data": {
      "text/plain": [
       "LogisticRegression(C=1.0, class_weight=None, dual=False, fit_intercept=True,\n",
       "                   intercept_scaling=1, l1_ratio=None, max_iter=100,\n",
       "                   multi_class='warn', n_jobs=None, penalty='l1',\n",
       "                   random_state=None, solver='warn', tol=0.0001, verbose=0,\n",
       "                   warm_start=False)"
      ]
     },
     "execution_count": 15,
     "metadata": {},
     "output_type": "execute_result"
    }
   ],
   "source": [
    "pipe['linearModel']"
   ]
  },
  {
   "cell_type": "code",
   "execution_count": 16,
   "metadata": {
    "collapsed": true,
    "jupyter": {
     "outputs_hidden": true
    }
   },
   "outputs": [
    {
     "name": "stderr",
     "output_type": "stream",
     "text": [
      "/home/rasoluci/anaconda3/lib/python3.7/site-packages/sklearn/model_selection/_split.py:1978: FutureWarning: The default value of cv will change from 3 to 5 in version 0.22. Specify it explicitly to silence this warning.\n",
      "  warnings.warn(CV_WARNING, FutureWarning)\n",
      "/home/rasoluci/anaconda3/lib/python3.7/site-packages/sklearn/linear_model/logistic.py:432: FutureWarning: Default solver will be changed to 'lbfgs' in 0.22. Specify a solver to silence this warning.\n",
      "  FutureWarning)\n",
      "/home/rasoluci/anaconda3/lib/python3.7/site-packages/sklearn/linear_model/logistic.py:432: FutureWarning: Default solver will be changed to 'lbfgs' in 0.22. Specify a solver to silence this warning.\n",
      "  FutureWarning)\n",
      "/home/rasoluci/anaconda3/lib/python3.7/site-packages/sklearn/linear_model/logistic.py:432: FutureWarning: Default solver will be changed to 'lbfgs' in 0.22. Specify a solver to silence this warning.\n",
      "  FutureWarning)\n",
      "/home/rasoluci/anaconda3/lib/python3.7/site-packages/sklearn/linear_model/logistic.py:432: FutureWarning: Default solver will be changed to 'lbfgs' in 0.22. Specify a solver to silence this warning.\n",
      "  FutureWarning)\n",
      "/home/rasoluci/anaconda3/lib/python3.7/site-packages/sklearn/linear_model/logistic.py:432: FutureWarning: Default solver will be changed to 'lbfgs' in 0.22. Specify a solver to silence this warning.\n",
      "  FutureWarning)\n",
      "/home/rasoluci/anaconda3/lib/python3.7/site-packages/sklearn/linear_model/logistic.py:432: FutureWarning: Default solver will be changed to 'lbfgs' in 0.22. Specify a solver to silence this warning.\n",
      "  FutureWarning)\n",
      "/home/rasoluci/anaconda3/lib/python3.7/site-packages/sklearn/linear_model/logistic.py:432: FutureWarning: Default solver will be changed to 'lbfgs' in 0.22. Specify a solver to silence this warning.\n",
      "  FutureWarning)\n",
      "/home/rasoluci/anaconda3/lib/python3.7/site-packages/sklearn/linear_model/logistic.py:432: FutureWarning: Default solver will be changed to 'lbfgs' in 0.22. Specify a solver to silence this warning.\n",
      "  FutureWarning)\n",
      "/home/rasoluci/anaconda3/lib/python3.7/site-packages/sklearn/linear_model/logistic.py:432: FutureWarning: Default solver will be changed to 'lbfgs' in 0.22. Specify a solver to silence this warning.\n",
      "  FutureWarning)\n",
      "/home/rasoluci/anaconda3/lib/python3.7/site-packages/sklearn/linear_model/logistic.py:432: FutureWarning: Default solver will be changed to 'lbfgs' in 0.22. Specify a solver to silence this warning.\n",
      "  FutureWarning)\n",
      "/home/rasoluci/anaconda3/lib/python3.7/site-packages/sklearn/svm/base.py:929: ConvergenceWarning: Liblinear failed to converge, increase the number of iterations.\n",
      "  \"the number of iterations.\", ConvergenceWarning)\n",
      "/home/rasoluci/anaconda3/lib/python3.7/site-packages/sklearn/linear_model/logistic.py:432: FutureWarning: Default solver will be changed to 'lbfgs' in 0.22. Specify a solver to silence this warning.\n",
      "  FutureWarning)\n",
      "/home/rasoluci/anaconda3/lib/python3.7/site-packages/sklearn/linear_model/logistic.py:432: FutureWarning: Default solver will be changed to 'lbfgs' in 0.22. Specify a solver to silence this warning.\n",
      "  FutureWarning)\n",
      "/home/rasoluci/anaconda3/lib/python3.7/site-packages/sklearn/linear_model/logistic.py:432: FutureWarning: Default solver will be changed to 'lbfgs' in 0.22. Specify a solver to silence this warning.\n",
      "  FutureWarning)\n",
      "/home/rasoluci/anaconda3/lib/python3.7/site-packages/sklearn/svm/base.py:929: ConvergenceWarning: Liblinear failed to converge, increase the number of iterations.\n",
      "  \"the number of iterations.\", ConvergenceWarning)\n",
      "/home/rasoluci/anaconda3/lib/python3.7/site-packages/sklearn/linear_model/logistic.py:432: FutureWarning: Default solver will be changed to 'lbfgs' in 0.22. Specify a solver to silence this warning.\n",
      "  FutureWarning)\n",
      "/home/rasoluci/anaconda3/lib/python3.7/site-packages/sklearn/svm/base.py:929: ConvergenceWarning: Liblinear failed to converge, increase the number of iterations.\n",
      "  \"the number of iterations.\", ConvergenceWarning)\n",
      "/home/rasoluci/anaconda3/lib/python3.7/site-packages/sklearn/linear_model/logistic.py:432: FutureWarning: Default solver will be changed to 'lbfgs' in 0.22. Specify a solver to silence this warning.\n",
      "  FutureWarning)\n",
      "/home/rasoluci/anaconda3/lib/python3.7/site-packages/sklearn/linear_model/logistic.py:432: FutureWarning: Default solver will be changed to 'lbfgs' in 0.22. Specify a solver to silence this warning.\n",
      "  FutureWarning)\n",
      "/home/rasoluci/anaconda3/lib/python3.7/site-packages/sklearn/linear_model/logistic.py:432: FutureWarning: Default solver will be changed to 'lbfgs' in 0.22. Specify a solver to silence this warning.\n",
      "  FutureWarning)\n",
      "/home/rasoluci/anaconda3/lib/python3.7/site-packages/sklearn/linear_model/logistic.py:432: FutureWarning: Default solver will be changed to 'lbfgs' in 0.22. Specify a solver to silence this warning.\n",
      "  FutureWarning)\n",
      "/home/rasoluci/anaconda3/lib/python3.7/site-packages/sklearn/linear_model/logistic.py:432: FutureWarning: Default solver will be changed to 'lbfgs' in 0.22. Specify a solver to silence this warning.\n",
      "  FutureWarning)\n",
      "/home/rasoluci/anaconda3/lib/python3.7/site-packages/sklearn/linear_model/logistic.py:432: FutureWarning: Default solver will be changed to 'lbfgs' in 0.22. Specify a solver to silence this warning.\n",
      "  FutureWarning)\n",
      "/home/rasoluci/anaconda3/lib/python3.7/site-packages/sklearn/linear_model/logistic.py:432: FutureWarning: Default solver will be changed to 'lbfgs' in 0.22. Specify a solver to silence this warning.\n",
      "  FutureWarning)\n",
      "/home/rasoluci/anaconda3/lib/python3.7/site-packages/sklearn/linear_model/logistic.py:432: FutureWarning: Default solver will be changed to 'lbfgs' in 0.22. Specify a solver to silence this warning.\n",
      "  FutureWarning)\n"
     ]
    }
   ],
   "source": [
    "gsPipeFittedModel = gsPipeModel.fit(df_train,y_train)"
   ]
  },
  {
   "cell_type": "code",
   "execution_count": 26,
   "metadata": {},
   "outputs": [
    {
     "ename": "TypeError",
     "evalue": "score() missing 1 required positional argument: 'X'",
     "output_type": "error",
     "traceback": [
      "\u001b[0;31m---------------------------------------------------------------------------\u001b[0m",
      "\u001b[0;31mTypeError\u001b[0m                                 Traceback (most recent call last)",
      "\u001b[0;32m<ipython-input-26-88413cbdf035>\u001b[0m in \u001b[0;36m<module>\u001b[0;34m\u001b[0m\n\u001b[0;32m----> 1\u001b[0;31m \u001b[0mgsPipeFittedModel\u001b[0m\u001b[0;34m.\u001b[0m\u001b[0mbest_estimator_\u001b[0m\u001b[0;34m.\u001b[0m\u001b[0mscore\u001b[0m\u001b[0;34m(\u001b[0m\u001b[0;34m)\u001b[0m\u001b[0;34m\u001b[0m\u001b[0;34m\u001b[0m\u001b[0m\n\u001b[0m",
      "\u001b[0;32m~/anaconda3/lib/python3.7/site-packages/sklearn/utils/metaestimators.py\u001b[0m in \u001b[0;36m<lambda>\u001b[0;34m(*args, **kwargs)\u001b[0m\n\u001b[1;32m    114\u001b[0m \u001b[0;34m\u001b[0m\u001b[0m\n\u001b[1;32m    115\u001b[0m         \u001b[0;31m# lambda, but not partial, allows help() to work with update_wrapper\u001b[0m\u001b[0;34m\u001b[0m\u001b[0;34m\u001b[0m\u001b[0;34m\u001b[0m\u001b[0m\n\u001b[0;32m--> 116\u001b[0;31m         \u001b[0mout\u001b[0m \u001b[0;34m=\u001b[0m \u001b[0;32mlambda\u001b[0m \u001b[0;34m*\u001b[0m\u001b[0margs\u001b[0m\u001b[0;34m,\u001b[0m \u001b[0;34m**\u001b[0m\u001b[0mkwargs\u001b[0m\u001b[0;34m:\u001b[0m \u001b[0mself\u001b[0m\u001b[0;34m.\u001b[0m\u001b[0mfn\u001b[0m\u001b[0;34m(\u001b[0m\u001b[0mobj\u001b[0m\u001b[0;34m,\u001b[0m \u001b[0;34m*\u001b[0m\u001b[0margs\u001b[0m\u001b[0;34m,\u001b[0m \u001b[0;34m**\u001b[0m\u001b[0mkwargs\u001b[0m\u001b[0;34m)\u001b[0m\u001b[0;34m\u001b[0m\u001b[0;34m\u001b[0m\u001b[0m\n\u001b[0m\u001b[1;32m    117\u001b[0m         \u001b[0;31m# update the docstring of the returned function\u001b[0m\u001b[0;34m\u001b[0m\u001b[0;34m\u001b[0m\u001b[0;34m\u001b[0m\u001b[0m\n\u001b[1;32m    118\u001b[0m         \u001b[0mupdate_wrapper\u001b[0m\u001b[0;34m(\u001b[0m\u001b[0mout\u001b[0m\u001b[0;34m,\u001b[0m \u001b[0mself\u001b[0m\u001b[0;34m.\u001b[0m\u001b[0mfn\u001b[0m\u001b[0;34m)\u001b[0m\u001b[0;34m\u001b[0m\u001b[0;34m\u001b[0m\u001b[0m\n",
      "\u001b[0;31mTypeError\u001b[0m: score() missing 1 required positional argument: 'X'"
     ]
    }
   ],
   "source": [
    "gsPipeFittedModel.best_estimator_.predict()"
   ]
  },
  {
   "cell_type": "code",
   "execution_count": 18,
   "metadata": {},
   "outputs": [
    {
     "data": {
      "image/png": "[encoded data removed]",
      "text/plain": [
       "<Figure size 432x288 with 1 Axes>"
      ]
     },
     "metadata": {
      "needs_background": "light"
     },
     "output_type": "display_data"
    }
   ],
   "source": [
    "pd.DataFrame(gsPipeFittedModel.cv_results_).plot(x='param_linearModel__C',y='mean_test_score')\n",
    "pd.DataFrame(gsPipeFittedModel.cv_results_).plot(x='param_linearModel__C',y='mean_test_score')\n",
    "plt.xscale(\"log\")"
   ]
  },
  {
   "cell_type": "code",
   "execution_count": 19,
   "metadata": {},
   "outputs": [
    {
     "data": {
      "text/plain": [
       "0.7719856744926383"
      ]
     },
     "execution_count": 19,
     "metadata": {},
     "output_type": "execute_result"
    }
   ],
   "source": [
    "gsPipeFittedModel.best_estimator_.score(df_dev,y_dev)"
   ]
  },
  {
   "cell_type": "code",
   "execution_count": null,
   "metadata": {},
   "outputs": [],
   "source": []
  },
  {
   "cell_type": "code",
   "execution_count": null,
   "metadata": {},
   "outputs": [],
   "source": []
  },
  {
   "cell_type": "markdown",
   "metadata": {},
   "source": [
    "## Use Glove embedding"
   ]
  },
  {
   "cell_type": "code",
   "execution_count": 43,
   "metadata": {},
   "outputs": [],
   "source": [
    "embeddings_dict = {}\n",
    "with open(\"data/glove.twitter.27B.25d.txt\", 'r', encoding=\"utf-8\") as f:\n",
    "    for line in f:\n",
    "        values = line.split()\n",
    "        word = values[0]\n",
    "        vector = np.asarray(values[1:], \"float32\")\n",
    "        embeddings_dict[word] = vector"
   ]
  },
  {
   "cell_type": "code",
   "execution_count": 44,
   "metadata": {},
   "outputs": [
    {
     "data": {
      "text/plain": [
       "array([ 0.033481 , -0.97308  , -0.067736 , -0.13024  ,  0.90959  ,\n",
       "       -0.47889  ,  2.0581   ,  2.348    ,  0.64141  , -0.23736  ,\n",
       "        0.63517  ,  1.0368   , -2.2095   ,  0.51406  , -1.0251   ,\n",
       "       -1.5808   , -1.232    ,  0.57945  , -1.051    , -0.36801  ,\n",
       "       -0.46394  , -1.8028   ,  0.10331  ,  0.0040312, -0.28344  ],\n",
       "      dtype=float32)"
      ]
     },
     "execution_count": 44,
     "metadata": {},
     "output_type": "execute_result"
    }
   ],
   "source": [
    "embeddings_dict['[']"
   ]
  },
  {
   "cell_type": "code",
   "execution_count": 120,
   "metadata": {},
   "outputs": [],
   "source": [
    "no_punct = rawData['lowerCase'].apply(lambda text: \"\".join([c for c in text if c not in set(string.punctuation)]))\n"
   ]
  },
  {
   "cell_type": "code",
   "execution_count": 121,
   "metadata": {},
   "outputs": [],
   "source": [
    "tok = no_punct.apply(lambda text: word_tokenize(text))"
   ]
  },
  {
   "cell_type": "code",
   "execution_count": 122,
   "metadata": {},
   "outputs": [
    {
     "data": {
      "text/plain": [
       "0       [our, deeds, are, the, reason, of, this, earth...\n",
       "1           [forest, fire, near, la, ronge, sask, canada]\n",
       "2       [all, residents, asked, to, shelter, in, place...\n",
       "3       [13000, people, receive, wildfires, evacuation...\n",
       "4       [just, got, sent, this, photo, from, ruby, ala...\n",
       "                              ...                        \n",
       "7608    [two, giant, cranes, holding, a, bridge, colla...\n",
       "7609    [ariaahrary, thetawniest, the, out, of, contro...\n",
       "7610    [m194, 0104, utc5km, s, of, volcano, hawaii, h...\n",
       "7611    [police, investigating, after, an, ebike, coll...\n",
       "7612    [the, latest, more, homes, razed, by, northern...\n",
       "Name: lowerCase, Length: 7613, dtype: object"
      ]
     },
     "execution_count": 122,
     "metadata": {},
     "output_type": "execute_result"
    }
   ],
   "source": [
    "tokz"
   ]
  },
  {
   "cell_type": "code",
   "execution_count": 115,
   "metadata": {},
   "outputs": [
    {
     "data": {
      "text/plain": [
       "[2, 3, 4]"
      ]
     },
     "execution_count": 115,
     "metadata": {},
     "output_type": "execute_result"
    }
   ],
   "source": [
    "b"
   ]
  },
  {
   "cell_type": "code",
   "execution_count": 138,
   "metadata": {},
   "outputs": [],
   "source": [
    "def try_embed(word):\n",
    "    try: emb = embeddings_dict[word].T\n",
    "    except:\n",
    "        None\n",
    "    return emb "
   ]
  },
  {
   "cell_type": "code",
   "execution_count": 158,
   "metadata": {},
   "outputs": [],
   "source": [
    "emb = tok.apply(lambda text: [try_embed(word) for word in text]) "
   ]
  },
  {
   "cell_type": "code",
   "execution_count": 141,
   "metadata": {},
   "outputs": [
    {
     "data": {
      "text/plain": [
       "0       [[-0.42047, 0.56526, -0.033577, 0.31019, 0.189...\n",
       "1       [[-1.2358, -0.58127, 0.20145, 0.01657, -1.3504...\n",
       "2       [[-0.18232, 0.96997, 0.32174, -0.074793, -0.11...\n",
       "3       [None, [0.61531, 0.40895, -0.34224, 0.21094, -...\n",
       "4       [[-0.35518, 0.4803, 0.49681, -0.76379, -0.6458...\n",
       "                              ...                        \n",
       "7608    [[0.58296, 0.44517, 1.0406, -0.047745, 0.01511...\n",
       "7609    [None, None, [-0.010167, 0.020194, 0.21473, 0....\n",
       "7610    [None, None, None, [0.71211, -0.18827, -0.836,...\n",
       "7611    [[0.30003, 0.34859, -0.2896, -0.30224, -0.5052...\n",
       "7612    [[-0.010167, 0.020194, 0.21473, 0.17289, -0.43...\n",
       "Name: lowerCase, Length: 7613, dtype: object"
      ]
     },
     "execution_count": 141,
     "metadata": {},
     "output_type": "execute_result"
    }
   ],
   "source": [
    "emb"
   ]
  },
  {
   "cell_type": "code",
   "execution_count": null,
   "metadata": {},
   "outputs": [],
   "source": []
  },
  {
   "cell_type": "code",
   "execution_count": null,
   "metadata": {},
   "outputs": [],
   "source": []
  },
  {
   "cell_type": "markdown",
   "metadata": {},
   "source": [
    "# TF"
   ]
  },
  {
   "cell_type": "code",
   "execution_count": 22,
   "metadata": {},
   "outputs": [],
   "source": []
  },
  {
   "cell_type": "code",
   "execution_count": 37,
   "metadata": {},
   "outputs": [
    {
     "data": {
      "text/plain": [
       "1296                                  star burn voic mind\n",
       "1527    emerg respons hazard chemic manag principl pra...\n",
       "2230    schelbertgeorg thank im teach onlin class amp ...\n",
       "5718    video pick bodi water rescuer search hundr mig...\n",
       "6630                                officialmqm terrorist\n",
       "                              ...                        \n",
       "233     offici skip fantasticfourfant4sticwhatev hasht...\n",
       "3088    omarmolina036 milioooo hes tri electrocut ya a...\n",
       "466     volleybal attack ii volleybal train machin set...\n",
       "4292    prophet peac upon said save hellfir even give ...\n",
       "4136    calgari transit review polici leav hundr commu...\n",
       "Name: lowerCase, Length: 2513, dtype: object"
      ]
     },
     "execution_count": 37,
     "metadata": {},
     "output_type": "execute_result"
    }
   ],
   "source": [
    "TfIdfPreprocess('lowerCase').transform(df_dev)"
   ]
  },
  {
   "cell_type": "code",
   "execution_count": 42,
   "metadata": {},
   "outputs": [
    {
     "data": {
      "text/html": [
       "<div>\n",
       "<style scoped>\n",
       "    .dataframe tbody tr th:only-of-type {\n",
       "        vertical-align: middle;\n",
       "    }\n",
       "\n",
       "    .dataframe tbody tr th {\n",
       "        vertical-align: top;\n",
       "    }\n",
       "\n",
       "    .dataframe thead th {\n",
       "        text-align: right;\n",
       "    }\n",
       "</style>\n",
       "<table border=\"1\" class=\"dataframe\">\n",
       "  <thead>\n",
       "    <tr style=\"text-align: right;\">\n",
       "      <th></th>\n",
       "      <th>id</th>\n",
       "      <th>keyword</th>\n",
       "      <th>location</th>\n",
       "      <th>text</th>\n",
       "      <th>target</th>\n",
       "      <th>lowerCase</th>\n",
       "    </tr>\n",
       "  </thead>\n",
       "  <tbody>\n",
       "    <tr>\n",
       "      <th>3773</th>\n",
       "      <td>5356</td>\n",
       "      <td>fire</td>\n",
       "      <td>University of South Florida</td>\n",
       "      <td>It may seem like our fire has been a little bu...</td>\n",
       "      <td>0</td>\n",
       "      <td>it may seem like our fire has been a little bu...</td>\n",
       "    </tr>\n",
       "    <tr>\n",
       "      <th>4649</th>\n",
       "      <td>6610</td>\n",
       "      <td>inundated</td>\n",
       "      <td>NYC&amp;NJ</td>\n",
       "      <td>@allyinwondrland That sounds like the perfect ...</td>\n",
       "      <td>0</td>\n",
       "      <td>@allyinwondrland that sounds like the perfect ...</td>\n",
       "    </tr>\n",
       "    <tr>\n",
       "      <th>2175</th>\n",
       "      <td>3118</td>\n",
       "      <td>debris</td>\n",
       "      <td>NaN</td>\n",
       "      <td>#?? #???? #??? #??? MH370: Aircraft debris fou...</td>\n",
       "      <td>1</td>\n",
       "      <td>#?? #???? #??? #??? mh370: aircraft debris fou...</td>\n",
       "    </tr>\n",
       "    <tr>\n",
       "      <th>2526</th>\n",
       "      <td>3629</td>\n",
       "      <td>desolation</td>\n",
       "      <td>Kalimantan Timur, Indonesia</td>\n",
       "      <td>'cause right now I can read too good don't sen...</td>\n",
       "      <td>0</td>\n",
       "      <td>'cause right now i can read too good don't sen...</td>\n",
       "    </tr>\n",
       "    <tr>\n",
       "      <th>6459</th>\n",
       "      <td>9240</td>\n",
       "      <td>suicide%20bombing</td>\n",
       "      <td>NaN</td>\n",
       "      <td>1 of the major reason of suicide bombing is th...</td>\n",
       "      <td>1</td>\n",
       "      <td>1 of the major reason of suicide bombing is th...</td>\n",
       "    </tr>\n",
       "    <tr>\n",
       "      <th>...</th>\n",
       "      <td>...</td>\n",
       "      <td>...</td>\n",
       "      <td>...</td>\n",
       "      <td>...</td>\n",
       "      <td>...</td>\n",
       "      <td>...</td>\n",
       "    </tr>\n",
       "    <tr>\n",
       "      <th>1037</th>\n",
       "      <td>1503</td>\n",
       "      <td>body%20bags</td>\n",
       "      <td>NaN</td>\n",
       "      <td>@ScottWalker So you can send the poor and midd...</td>\n",
       "      <td>0</td>\n",
       "      <td>@scottwalker so you can send the poor and midd...</td>\n",
       "    </tr>\n",
       "    <tr>\n",
       "      <th>1528</th>\n",
       "      <td>2210</td>\n",
       "      <td>chemical%20emergency</td>\n",
       "      <td>Littleton, CO, USA</td>\n",
       "      <td>THE CHEMICAL BROTHERS to play The Armory in SF...</td>\n",
       "      <td>0</td>\n",
       "      <td>the chemical brothers to play the armory in sf...</td>\n",
       "    </tr>\n",
       "    <tr>\n",
       "      <th>6375</th>\n",
       "      <td>9110</td>\n",
       "      <td>suicide%20bomb</td>\n",
       "      <td>Email: Lovethterry@gmail.com</td>\n",
       "      <td>See the 16yr old PKK suicide bomber who detona...</td>\n",
       "      <td>1</td>\n",
       "      <td>see the 16yr old pkk suicide bomber who detona...</td>\n",
       "    </tr>\n",
       "    <tr>\n",
       "      <th>3273</th>\n",
       "      <td>4698</td>\n",
       "      <td>epicentre</td>\n",
       "      <td>London/Surrey</td>\n",
       "      <td>@carneross indeed and a remarkably puny idea t...</td>\n",
       "      <td>0</td>\n",
       "      <td>@carneross indeed and a remarkably puny idea t...</td>\n",
       "    </tr>\n",
       "    <tr>\n",
       "      <th>2129</th>\n",
       "      <td>3057</td>\n",
       "      <td>deaths</td>\n",
       "      <td>Palermo, Sicily</td>\n",
       "      <td>Silence. #Palermo #Shipwreck #Children #Deaths...</td>\n",
       "      <td>1</td>\n",
       "      <td>silence. #palermo #shipwreck #children #deaths...</td>\n",
       "    </tr>\n",
       "  </tbody>\n",
       "</table>\n",
       "<p>5100 rows × 6 columns</p>\n",
       "</div>"
      ],
      "text/plain": [
       "        id               keyword                      location  \\\n",
       "3773  5356                  fire   University of South Florida   \n",
       "4649  6610             inundated                        NYC&NJ   \n",
       "2175  3118                debris                           NaN   \n",
       "2526  3629            desolation   Kalimantan Timur, Indonesia   \n",
       "6459  9240     suicide%20bombing                           NaN   \n",
       "...    ...                   ...                           ...   \n",
       "1037  1503           body%20bags                           NaN   \n",
       "1528  2210  chemical%20emergency            Littleton, CO, USA   \n",
       "6375  9110        suicide%20bomb  Email: Lovethterry@gmail.com   \n",
       "3273  4698             epicentre                London/Surrey    \n",
       "2129  3057                deaths               Palermo, Sicily   \n",
       "\n",
       "                                                   text  target  \\\n",
       "3773  It may seem like our fire has been a little bu...       0   \n",
       "4649  @allyinwondrland That sounds like the perfect ...       0   \n",
       "2175  #?? #???? #??? #??? MH370: Aircraft debris fou...       1   \n",
       "2526  'cause right now I can read too good don't sen...       0   \n",
       "6459  1 of the major reason of suicide bombing is th...       1   \n",
       "...                                                 ...     ...   \n",
       "1037  @ScottWalker So you can send the poor and midd...       0   \n",
       "1528  THE CHEMICAL BROTHERS to play The Armory in SF...       0   \n",
       "6375  See the 16yr old PKK suicide bomber who detona...       1   \n",
       "3273  @carneross indeed and a remarkably puny idea t...       0   \n",
       "2129  Silence. #Palermo #Shipwreck #Children #Deaths...       1   \n",
       "\n",
       "                                              lowerCase  \n",
       "3773  it may seem like our fire has been a little bu...  \n",
       "4649  @allyinwondrland that sounds like the perfect ...  \n",
       "2175  #?? #???? #??? #??? mh370: aircraft debris fou...  \n",
       "2526  'cause right now i can read too good don't sen...  \n",
       "6459  1 of the major reason of suicide bombing is th...  \n",
       "...                                                 ...  \n",
       "1037  @scottwalker so you can send the poor and midd...  \n",
       "1528  the chemical brothers to play the armory in sf...  \n",
       "6375  see the 16yr old pkk suicide bomber who detona...  \n",
       "3273  @carneross indeed and a remarkably puny idea t...  \n",
       "2129  silence. #palermo #shipwreck #children #deaths...  \n",
       "\n",
       "[5100 rows x 6 columns]"
      ]
     },
     "execution_count": 42,
     "metadata": {},
     "output_type": "execute_result"
    }
   ],
   "source": [
    "df_train"
   ]
  },
  {
   "cell_type": "code",
   "execution_count": 27,
   "metadata": {},
   "outputs": [
    {
     "ename": "AttributeError",
     "evalue": "'DataFrame' object has no attribute 'noPunctAll'",
     "output_type": "error",
     "traceback": [
      "\u001b[0;31m---------------------------------------------------------------------------\u001b[0m",
      "\u001b[0;31mAttributeError\u001b[0m                            Traceback (most recent call last)",
      "\u001b[0;32m<ipython-input-27-00e5eb33c772>\u001b[0m in \u001b[0;36m<module>\u001b[0;34m\u001b[0m\n\u001b[1;32m      1\u001b[0m \u001b[0;31m# find tweet given word\u001b[0m\u001b[0;34m\u001b[0m\u001b[0;34m\u001b[0m\u001b[0;34m\u001b[0m\u001b[0m\n\u001b[1;32m      2\u001b[0m \u001b[0mword\u001b[0m \u001b[0;34m=\u001b[0m \u001b[0;34m\"decisionsondecis\"\u001b[0m\u001b[0;34m\u001b[0m\u001b[0;34m\u001b[0m\u001b[0m\n\u001b[0;32m----> 3\u001b[0;31m \u001b[0mcompleteTweets\u001b[0m \u001b[0;34m=\u001b[0m \u001b[0mrawData\u001b[0m\u001b[0;34m[\u001b[0m\u001b[0mrawData\u001b[0m\u001b[0;34m.\u001b[0m\u001b[0mnoPunctAll\u001b[0m\u001b[0;34m.\u001b[0m\u001b[0mapply\u001b[0m\u001b[0;34m(\u001b[0m\u001b[0;32mlambda\u001b[0m \u001b[0mtext\u001b[0m\u001b[0;34m:\u001b[0m \u001b[0;32mTrue\u001b[0m \u001b[0;32mif\u001b[0m \u001b[0mword\u001b[0m \u001b[0;32min\u001b[0m \u001b[0mtext\u001b[0m \u001b[0;32melse\u001b[0m \u001b[0;32mFalse\u001b[0m\u001b[0;34m)\u001b[0m\u001b[0;34m]\u001b[0m\u001b[0;34m\u001b[0m\u001b[0;34m\u001b[0m\u001b[0m\n\u001b[0m\u001b[1;32m      4\u001b[0m \u001b[0mcompleteTweetEx\u001b[0m \u001b[0;34m=\u001b[0m \u001b[0mcompleteTweets\u001b[0m\u001b[0;34m.\u001b[0m\u001b[0miloc\u001b[0m\u001b[0;34m[\u001b[0m\u001b[0;36m0\u001b[0m\u001b[0;34m]\u001b[0m\u001b[0;34m\u001b[0m\u001b[0;34m\u001b[0m\u001b[0m\n\u001b[1;32m      5\u001b[0m \u001b[0mcompleteTweetEx\u001b[0m\u001b[0;34m\u001b[0m\u001b[0;34m\u001b[0m\u001b[0m\n",
      "\u001b[0;32m~/anaconda3/lib/python3.7/site-packages/pandas/core/generic.py\u001b[0m in \u001b[0;36m__getattr__\u001b[0;34m(self, name)\u001b[0m\n\u001b[1;32m   5272\u001b[0m             \u001b[0;32mif\u001b[0m \u001b[0mself\u001b[0m\u001b[0;34m.\u001b[0m\u001b[0m_info_axis\u001b[0m\u001b[0;34m.\u001b[0m\u001b[0m_can_hold_identifiers_and_holds_name\u001b[0m\u001b[0;34m(\u001b[0m\u001b[0mname\u001b[0m\u001b[0;34m)\u001b[0m\u001b[0;34m:\u001b[0m\u001b[0;34m\u001b[0m\u001b[0;34m\u001b[0m\u001b[0m\n\u001b[1;32m   5273\u001b[0m                 \u001b[0;32mreturn\u001b[0m \u001b[0mself\u001b[0m\u001b[0;34m[\u001b[0m\u001b[0mname\u001b[0m\u001b[0;34m]\u001b[0m\u001b[0;34m\u001b[0m\u001b[0;34m\u001b[0m\u001b[0m\n\u001b[0;32m-> 5274\u001b[0;31m             \u001b[0;32mreturn\u001b[0m \u001b[0mobject\u001b[0m\u001b[0;34m.\u001b[0m\u001b[0m__getattribute__\u001b[0m\u001b[0;34m(\u001b[0m\u001b[0mself\u001b[0m\u001b[0;34m,\u001b[0m \u001b[0mname\u001b[0m\u001b[0;34m)\u001b[0m\u001b[0;34m\u001b[0m\u001b[0;34m\u001b[0m\u001b[0m\n\u001b[0m\u001b[1;32m   5275\u001b[0m \u001b[0;34m\u001b[0m\u001b[0m\n\u001b[1;32m   5276\u001b[0m     \u001b[0;32mdef\u001b[0m \u001b[0m__setattr__\u001b[0m\u001b[0;34m(\u001b[0m\u001b[0mself\u001b[0m\u001b[0;34m,\u001b[0m \u001b[0mname\u001b[0m\u001b[0;34m:\u001b[0m \u001b[0mstr\u001b[0m\u001b[0;34m,\u001b[0m \u001b[0mvalue\u001b[0m\u001b[0;34m)\u001b[0m \u001b[0;34m->\u001b[0m \u001b[0;32mNone\u001b[0m\u001b[0;34m:\u001b[0m\u001b[0;34m\u001b[0m\u001b[0;34m\u001b[0m\u001b[0m\n",
      "\u001b[0;31mAttributeError\u001b[0m: 'DataFrame' object has no attribute 'noPunctAll'"
     ]
    }
   ],
   "source": [
    "# find tweet given word\n",
    "word = \"decisionsondecis\"\n",
    "completeTweets = rawData[rawData.noPunctAll.apply(lambda text: True if word in text else False)]\n",
    "completeTweetEx = completeTweets.iloc[0]\n",
    "completeTweetEx"
   ]
  },
  {
   "cell_type": "code",
   "execution_count": 29,
   "metadata": {},
   "outputs": [
    {
     "ename": "AttributeError",
     "evalue": "'DataFrame' object has no attribute 'noPunctAll'",
     "output_type": "error",
     "traceback": [
      "\u001b[0;31m---------------------------------------------------------------------------\u001b[0m",
      "\u001b[0;31mAttributeError\u001b[0m                            Traceback (most recent call last)",
      "\u001b[0;32m<ipython-input-29-e206f4822b7d>\u001b[0m in \u001b[0;36m<module>\u001b[0;34m\u001b[0m\n\u001b[0;32m----> 1\u001b[0;31m \u001b[0mrawData\u001b[0m\u001b[0;34m[\u001b[0m\u001b[0;34m'noPunctAll'\u001b[0m\u001b[0;34m]\u001b[0m\u001b[0;34m=\u001b[0m  \u001b[0mrawData\u001b[0m\u001b[0;34m[\u001b[0m\u001b[0mrawData\u001b[0m\u001b[0;34m.\u001b[0m\u001b[0mnoPunctAll\u001b[0m\u001b[0;34m.\u001b[0m\u001b[0mapply\u001b[0m\u001b[0;34m(\u001b[0m\u001b[0;32mlambda\u001b[0m \u001b[0mtext\u001b[0m\u001b[0;34m:\u001b[0m \u001b[0;32mTrue\u001b[0m \u001b[0;32mif\u001b[0m \u001b[0mword\u001b[0m \u001b[0;32min\u001b[0m \u001b[0mtext\u001b[0m \u001b[0;32melse\u001b[0m \u001b[0;32mFalse\u001b[0m\u001b[0;34m)\u001b[0m\u001b[0;34m]\u001b[0m\u001b[0;34m.\u001b[0m\u001b[0miloc\u001b[0m\u001b[0;34m[\u001b[0m\u001b[0;36m1\u001b[0m\u001b[0;34m]\u001b[0m\u001b[0;34m[\u001b[0m\u001b[0;34m'noPunctAll'\u001b[0m\u001b[0;34m]\u001b[0m\u001b[0;34m\u001b[0m\u001b[0;34m\u001b[0m\u001b[0m\n\u001b[0m",
      "\u001b[0;32m~/anaconda3/lib/python3.7/site-packages/pandas/core/generic.py\u001b[0m in \u001b[0;36m__getattr__\u001b[0;34m(self, name)\u001b[0m\n\u001b[1;32m   5272\u001b[0m             \u001b[0;32mif\u001b[0m \u001b[0mself\u001b[0m\u001b[0;34m.\u001b[0m\u001b[0m_info_axis\u001b[0m\u001b[0;34m.\u001b[0m\u001b[0m_can_hold_identifiers_and_holds_name\u001b[0m\u001b[0;34m(\u001b[0m\u001b[0mname\u001b[0m\u001b[0;34m)\u001b[0m\u001b[0;34m:\u001b[0m\u001b[0;34m\u001b[0m\u001b[0;34m\u001b[0m\u001b[0m\n\u001b[1;32m   5273\u001b[0m                 \u001b[0;32mreturn\u001b[0m \u001b[0mself\u001b[0m\u001b[0;34m[\u001b[0m\u001b[0mname\u001b[0m\u001b[0;34m]\u001b[0m\u001b[0;34m\u001b[0m\u001b[0;34m\u001b[0m\u001b[0m\n\u001b[0;32m-> 5274\u001b[0;31m             \u001b[0;32mreturn\u001b[0m \u001b[0mobject\u001b[0m\u001b[0;34m.\u001b[0m\u001b[0m__getattribute__\u001b[0m\u001b[0;34m(\u001b[0m\u001b[0mself\u001b[0m\u001b[0;34m,\u001b[0m \u001b[0mname\u001b[0m\u001b[0;34m)\u001b[0m\u001b[0;34m\u001b[0m\u001b[0;34m\u001b[0m\u001b[0m\n\u001b[0m\u001b[1;32m   5275\u001b[0m \u001b[0;34m\u001b[0m\u001b[0m\n\u001b[1;32m   5276\u001b[0m     \u001b[0;32mdef\u001b[0m \u001b[0m__setattr__\u001b[0m\u001b[0;34m(\u001b[0m\u001b[0mself\u001b[0m\u001b[0;34m,\u001b[0m \u001b[0mname\u001b[0m\u001b[0;34m:\u001b[0m \u001b[0mstr\u001b[0m\u001b[0;34m,\u001b[0m \u001b[0mvalue\u001b[0m\u001b[0;34m)\u001b[0m \u001b[0;34m->\u001b[0m \u001b[0;32mNone\u001b[0m\u001b[0;34m:\u001b[0m\u001b[0;34m\u001b[0m\u001b[0;34m\u001b[0m\u001b[0m\n",
      "\u001b[0;31mAttributeError\u001b[0m: 'DataFrame' object has no attribute 'noPunctAll'"
     ]
    }
   ],
   "source": [
    "rawData['noPunctAll']=  rawData[rawData.noPunctAll.apply(lambda text: True if word in text else False)].iloc[1]['noPunctAll']\n"
   ]
  },
  {
   "cell_type": "code",
   "execution_count": 30,
   "metadata": {},
   "outputs": [
    {
     "data": {
      "text/html": [
       "<div>\n",
       "<style scoped>\n",
       "    .dataframe tbody tr th:only-of-type {\n",
       "        vertical-align: middle;\n",
       "    }\n",
       "\n",
       "    .dataframe tbody tr th {\n",
       "        vertical-align: top;\n",
       "    }\n",
       "\n",
       "    .dataframe thead th {\n",
       "        text-align: right;\n",
       "    }\n",
       "</style>\n",
       "<table border=\"1\" class=\"dataframe\">\n",
       "  <thead>\n",
       "    <tr style=\"text-align: right;\">\n",
       "      <th></th>\n",
       "      <th>id</th>\n",
       "      <th>keyword</th>\n",
       "      <th>location</th>\n",
       "      <th>text</th>\n",
       "      <th>target</th>\n",
       "      <th>lowerCase</th>\n",
       "    </tr>\n",
       "  </thead>\n",
       "  <tbody>\n",
       "    <tr>\n",
       "      <th>0</th>\n",
       "      <td>1</td>\n",
       "      <td>NaN</td>\n",
       "      <td>NaN</td>\n",
       "      <td>Our Deeds are the Reason of this #earthquake M...</td>\n",
       "      <td>1</td>\n",
       "      <td>our deeds are the reason of this #earthquake m...</td>\n",
       "    </tr>\n",
       "    <tr>\n",
       "      <th>1</th>\n",
       "      <td>4</td>\n",
       "      <td>NaN</td>\n",
       "      <td>NaN</td>\n",
       "      <td>Forest fire near La Ronge Sask. Canada</td>\n",
       "      <td>1</td>\n",
       "      <td>forest fire near la ronge sask. canada</td>\n",
       "    </tr>\n",
       "    <tr>\n",
       "      <th>2</th>\n",
       "      <td>5</td>\n",
       "      <td>NaN</td>\n",
       "      <td>NaN</td>\n",
       "      <td>All residents asked to 'shelter in place' are ...</td>\n",
       "      <td>1</td>\n",
       "      <td>all residents asked to 'shelter in place' are ...</td>\n",
       "    </tr>\n",
       "    <tr>\n",
       "      <th>3</th>\n",
       "      <td>6</td>\n",
       "      <td>NaN</td>\n",
       "      <td>NaN</td>\n",
       "      <td>13,000 people receive #wildfires evacuation or...</td>\n",
       "      <td>1</td>\n",
       "      <td>13,000 people receive #wildfires evacuation or...</td>\n",
       "    </tr>\n",
       "    <tr>\n",
       "      <th>4</th>\n",
       "      <td>7</td>\n",
       "      <td>NaN</td>\n",
       "      <td>NaN</td>\n",
       "      <td>Just got sent this photo from Ruby #Alaska as ...</td>\n",
       "      <td>1</td>\n",
       "      <td>just got sent this photo from ruby #alaska as ...</td>\n",
       "    </tr>\n",
       "    <tr>\n",
       "      <th>...</th>\n",
       "      <td>...</td>\n",
       "      <td>...</td>\n",
       "      <td>...</td>\n",
       "      <td>...</td>\n",
       "      <td>...</td>\n",
       "      <td>...</td>\n",
       "    </tr>\n",
       "    <tr>\n",
       "      <th>7608</th>\n",
       "      <td>10869</td>\n",
       "      <td>NaN</td>\n",
       "      <td>NaN</td>\n",
       "      <td>Two giant cranes holding a bridge collapse int...</td>\n",
       "      <td>1</td>\n",
       "      <td>two giant cranes holding a bridge collapse int...</td>\n",
       "    </tr>\n",
       "    <tr>\n",
       "      <th>7609</th>\n",
       "      <td>10870</td>\n",
       "      <td>NaN</td>\n",
       "      <td>NaN</td>\n",
       "      <td>@aria_ahrary @TheTawniest The out of control w...</td>\n",
       "      <td>1</td>\n",
       "      <td>@aria_ahrary @thetawniest the out of control w...</td>\n",
       "    </tr>\n",
       "    <tr>\n",
       "      <th>7610</th>\n",
       "      <td>10871</td>\n",
       "      <td>NaN</td>\n",
       "      <td>NaN</td>\n",
       "      <td>M1.94 [01:04 UTC]?5km S of Volcano Hawaii. htt...</td>\n",
       "      <td>1</td>\n",
       "      <td>m1.94 [01:04 utc]?5km s of volcano hawaii. htt...</td>\n",
       "    </tr>\n",
       "    <tr>\n",
       "      <th>7611</th>\n",
       "      <td>10872</td>\n",
       "      <td>NaN</td>\n",
       "      <td>NaN</td>\n",
       "      <td>Police investigating after an e-bike collided ...</td>\n",
       "      <td>1</td>\n",
       "      <td>police investigating after an e-bike collided ...</td>\n",
       "    </tr>\n",
       "    <tr>\n",
       "      <th>7612</th>\n",
       "      <td>10873</td>\n",
       "      <td>NaN</td>\n",
       "      <td>NaN</td>\n",
       "      <td>The Latest: More Homes Razed by Northern Calif...</td>\n",
       "      <td>1</td>\n",
       "      <td>the latest: more homes razed by northern calif...</td>\n",
       "    </tr>\n",
       "  </tbody>\n",
       "</table>\n",
       "<p>7613 rows × 6 columns</p>\n",
       "</div>"
      ],
      "text/plain": [
       "         id keyword location  \\\n",
       "0         1     NaN      NaN   \n",
       "1         4     NaN      NaN   \n",
       "2         5     NaN      NaN   \n",
       "3         6     NaN      NaN   \n",
       "4         7     NaN      NaN   \n",
       "...     ...     ...      ...   \n",
       "7608  10869     NaN      NaN   \n",
       "7609  10870     NaN      NaN   \n",
       "7610  10871     NaN      NaN   \n",
       "7611  10872     NaN      NaN   \n",
       "7612  10873     NaN      NaN   \n",
       "\n",
       "                                                   text  target  \\\n",
       "0     Our Deeds are the Reason of this #earthquake M...       1   \n",
       "1                Forest fire near La Ronge Sask. Canada       1   \n",
       "2     All residents asked to 'shelter in place' are ...       1   \n",
       "3     13,000 people receive #wildfires evacuation or...       1   \n",
       "4     Just got sent this photo from Ruby #Alaska as ...       1   \n",
       "...                                                 ...     ...   \n",
       "7608  Two giant cranes holding a bridge collapse int...       1   \n",
       "7609  @aria_ahrary @TheTawniest The out of control w...       1   \n",
       "7610  M1.94 [01:04 UTC]?5km S of Volcano Hawaii. htt...       1   \n",
       "7611  Police investigating after an e-bike collided ...       1   \n",
       "7612  The Latest: More Homes Razed by Northern Calif...       1   \n",
       "\n",
       "                                              lowerCase  \n",
       "0     our deeds are the reason of this #earthquake m...  \n",
       "1                forest fire near la ronge sask. canada  \n",
       "2     all residents asked to 'shelter in place' are ...  \n",
       "3     13,000 people receive #wildfires evacuation or...  \n",
       "4     just got sent this photo from ruby #alaska as ...  \n",
       "...                                                 ...  \n",
       "7608  two giant cranes holding a bridge collapse int...  \n",
       "7609  @aria_ahrary @thetawniest the out of control w...  \n",
       "7610  m1.94 [01:04 utc]?5km s of volcano hawaii. htt...  \n",
       "7611  police investigating after an e-bike collided ...  \n",
       "7612  the latest: more homes razed by northern calif...  \n",
       "\n",
       "[7613 rows x 6 columns]"
      ]
     },
     "execution_count": 30,
     "metadata": {},
     "output_type": "execute_result"
    }
   ],
   "source": [
    "rawData['noPunctAll']"
   ]
  },
  {
   "cell_type": "markdown",
   "metadata": {},
   "source": [
    "_______"
   ]
  },
  {
   "cell_type": "markdown",
   "metadata": {},
   "source": [
    "# KERAS"
   ]
  },
  {
   "cell_type": "markdown",
   "metadata": {},
   "source": [
    "## Logistic Model"
   ]
  },
  {
   "cell_type": "code",
   "execution_count": 81,
   "metadata": {},
   "outputs": [],
   "source": [
    "tfIdfLogisticModel = tf.keras.Sequential()\n",
    "#logisticModel.add(tf.keras.layers.DenseFeatures())\n",
    "#logisticModel.add(tf.keras.layers.Dense(vocabSize,activation='linear'))\n",
    "tfIdfLogisticModel.add(tf.keras.layers.Dense(1,activation='sigmoid',use_bias=True,kernel_regularizer=None))#tf.keras.regularizers.l1(0.)))"
   ]
  },
  {
   "cell_type": "code",
   "execution_count": 82,
   "metadata": {},
   "outputs": [],
   "source": [
    "embedding_layer = tf.keras.layers.Embedding(1000, 5)\n",
    "EmbeddedLogistic = None  # TODO"
   ]
  },
  {
   "cell_type": "code",
   "execution_count": 83,
   "metadata": {},
   "outputs": [],
   "source": [
    "tfIdfLogisticModel.compile(optimizer='adam',\n",
    "              loss=tf.keras.losses.BinaryCrossentropy(from_logits=True),\n",
    "              metrics=['accuracy'])"
   ]
  },
  {
   "cell_type": "code",
   "execution_count": 84,
   "metadata": {
    "collapsed": true,
    "jupyter": {
     "outputs_hidden": true
    }
   },
   "outputs": [
    {
     "name": "stdout",
     "output_type": "stream",
     "text": [
      "Train on 5100 samples, validate on 2513 samples\n",
      "Epoch 1/120\n",
      "5100/5100 [==============================] - 3s 557us/sample - loss: 0.7526 - accuracy: 0.5649 - val_loss: 0.7509 - val_accuracy: 0.5758\n",
      "Epoch 2/120\n",
      "5100/5100 [==============================] - 1s 132us/sample - loss: 0.7405 - accuracy: 0.5692 - val_loss: 0.7407 - val_accuracy: 0.5758\n",
      "Epoch 3/120\n",
      "5100/5100 [==============================] - 16s 3ms/sample - loss: 0.7294 - accuracy: 0.5706 - val_loss: 0.7319 - val_accuracy: 0.5802\n",
      "Epoch 4/120\n",
      "5100/5100 [==============================] - 1s 168us/sample - loss: 0.7198 - accuracy: 0.5724 - val_loss: 0.7242 - val_accuracy: 0.5810\n",
      "Epoch 5/120\n",
      "5100/5100 [==============================] - 1s 128us/sample - loss: 0.7115 - accuracy: 0.5737 - val_loss: 0.7177 - val_accuracy: 0.5814\n",
      "Epoch 6/120\n",
      "5100/5100 [==============================] - 1s 129us/sample - loss: 0.7045 - accuracy: 0.5745 - val_loss: 0.7123 - val_accuracy: 0.5830\n",
      "Epoch 7/120\n",
      "5100/5100 [==============================] - 1s 124us/sample - loss: 0.6986 - accuracy: 0.5775 - val_loss: 0.7077 - val_accuracy: 0.5842\n",
      "Epoch 8/120\n",
      "5100/5100 [==============================] - 1s 121us/sample - loss: 0.6935 - accuracy: 0.5808 - val_loss: 0.7037 - val_accuracy: 0.5869\n",
      "Epoch 9/120\n",
      "5100/5100 [==============================] - 1s 122us/sample - loss: 0.6890 - accuracy: 0.5882 - val_loss: 0.7003 - val_accuracy: 0.5921\n",
      "Epoch 10/120\n",
      "5100/5100 [==============================] - 1s 122us/sample - loss: 0.6850 - accuracy: 0.5924 - val_loss: 0.6973 - val_accuracy: 0.5989\n",
      "Epoch 11/120\n",
      "5100/5100 [==============================] - 1s 121us/sample - loss: 0.6814 - accuracy: 0.5963 - val_loss: 0.6947 - val_accuracy: 0.6017\n",
      "Epoch 12/120\n",
      "5100/5100 [==============================] - 1s 123us/sample - loss: 0.6781 - accuracy: 0.6037 - val_loss: 0.6923 - val_accuracy: 0.6068\n",
      "Epoch 13/120\n",
      "5100/5100 [==============================] - 1s 124us/sample - loss: 0.6751 - accuracy: 0.6122 - val_loss: 0.6901 - val_accuracy: 0.6148\n",
      "Epoch 14/120\n",
      "5100/5100 [==============================] - 1s 123us/sample - loss: 0.6721 - accuracy: 0.6188 - val_loss: 0.6880 - val_accuracy: 0.6204\n",
      "Epoch 15/120\n",
      "5100/5100 [==============================] - 1s 123us/sample - loss: 0.6693 - accuracy: 0.6265 - val_loss: 0.6862 - val_accuracy: 0.6240\n",
      "Epoch 16/120\n",
      "5100/5100 [==============================] - 1s 124us/sample - loss: 0.6665 - accuracy: 0.6371 - val_loss: 0.6844 - val_accuracy: 0.6299\n",
      "Epoch 17/120\n",
      "5100/5100 [==============================] - 1s 135us/sample - loss: 0.6638 - accuracy: 0.6457 - val_loss: 0.6827 - val_accuracy: 0.6371\n",
      "Epoch 18/120\n",
      "5100/5100 [==============================] - 1s 143us/sample - loss: 0.6612 - accuracy: 0.6576 - val_loss: 0.6811 - val_accuracy: 0.6442\n",
      "Epoch 19/120\n",
      "5100/5100 [==============================] - 1s 123us/sample - loss: 0.6586 - accuracy: 0.6698 - val_loss: 0.6796 - val_accuracy: 0.6526\n",
      "Epoch 20/120\n",
      "5100/5100 [==============================] - 1s 141us/sample - loss: 0.6561 - accuracy: 0.6841 - val_loss: 0.6782 - val_accuracy: 0.6598\n",
      "Epoch 21/120\n",
      "5100/5100 [==============================] - 1s 150us/sample - loss: 0.6536 - accuracy: 0.7022 - val_loss: 0.6768 - val_accuracy: 0.6673\n",
      "Epoch 22/120\n",
      "5100/5100 [==============================] - 1s 143us/sample - loss: 0.6511 - accuracy: 0.7129 - val_loss: 0.6755 - val_accuracy: 0.6801\n",
      "Epoch 23/120\n",
      "5100/5100 [==============================] - 1s 143us/sample - loss: 0.6487 - accuracy: 0.7261 - val_loss: 0.6742 - val_accuracy: 0.6876\n",
      "Epoch 24/120\n",
      "5100/5100 [==============================] - 1s 143us/sample - loss: 0.6464 - accuracy: 0.7375 - val_loss: 0.6730 - val_accuracy: 0.6944\n",
      "Epoch 25/120\n",
      "5100/5100 [==============================] - 1s 144us/sample - loss: 0.6442 - accuracy: 0.7524 - val_loss: 0.6719 - val_accuracy: 0.7059\n",
      "Epoch 26/120\n",
      "5100/5100 [==============================] - 1s 147us/sample - loss: 0.6420 - accuracy: 0.7661 - val_loss: 0.6707 - val_accuracy: 0.7111\n",
      "Epoch 27/120\n",
      "5100/5100 [==============================] - 1s 148us/sample - loss: 0.6399 - accuracy: 0.7749 - val_loss: 0.6696 - val_accuracy: 0.7159\n",
      "Epoch 28/120\n",
      "5100/5100 [==============================] - 1s 148us/sample - loss: 0.6378 - accuracy: 0.7829 - val_loss: 0.6686 - val_accuracy: 0.7199\n",
      "Epoch 29/120\n",
      "5100/5100 [==============================] - 1s 146us/sample - loss: 0.6358 - accuracy: 0.7918 - val_loss: 0.6676 - val_accuracy: 0.7274\n",
      "Epoch 30/120\n",
      "5100/5100 [==============================] - 1s 151us/sample - loss: 0.6339 - accuracy: 0.7982 - val_loss: 0.6667 - val_accuracy: 0.7318\n",
      "Epoch 31/120\n",
      "5100/5100 [==============================] - 1s 148us/sample - loss: 0.6320 - accuracy: 0.8047 - val_loss: 0.6657 - val_accuracy: 0.7350\n",
      "Epoch 32/120\n",
      "5100/5100 [==============================] - 1s 154us/sample - loss: 0.6302 - accuracy: 0.8163 - val_loss: 0.6649 - val_accuracy: 0.7402\n",
      "Epoch 33/120\n",
      "5100/5100 [==============================] - 1s 149us/sample - loss: 0.6284 - accuracy: 0.8212 - val_loss: 0.6641 - val_accuracy: 0.7453\n",
      "Epoch 34/120\n",
      "5100/5100 [==============================] - 1s 149us/sample - loss: 0.6267 - accuracy: 0.8276 - val_loss: 0.6632 - val_accuracy: 0.7481\n",
      "Epoch 35/120\n",
      "5100/5100 [==============================] - 1s 146us/sample - loss: 0.6251 - accuracy: 0.8335 - val_loss: 0.6624 - val_accuracy: 0.7521\n",
      "Epoch 36/120\n",
      "5100/5100 [==============================] - 1s 145us/sample - loss: 0.6234 - accuracy: 0.8365 - val_loss: 0.6616 - val_accuracy: 0.7549\n",
      "Epoch 37/120\n",
      "5100/5100 [==============================] - 1s 147us/sample - loss: 0.6219 - accuracy: 0.8406 - val_loss: 0.6609 - val_accuracy: 0.7569\n",
      "Epoch 38/120\n",
      "5100/5100 [==============================] - 1s 147us/sample - loss: 0.6204 - accuracy: 0.8459 - val_loss: 0.6602 - val_accuracy: 0.7565\n",
      "Epoch 39/120\n",
      "5100/5100 [==============================] - 1s 147us/sample - loss: 0.6189 - accuracy: 0.8508 - val_loss: 0.6596 - val_accuracy: 0.7612\n",
      "Epoch 40/120\n",
      "5100/5100 [==============================] - 1s 148us/sample - loss: 0.6175 - accuracy: 0.8567 - val_loss: 0.6589 - val_accuracy: 0.7648\n",
      "Epoch 41/120\n",
      "5100/5100 [==============================] - 1s 146us/sample - loss: 0.6161 - accuracy: 0.8612 - val_loss: 0.6583 - val_accuracy: 0.7660\n",
      "Epoch 42/120\n",
      "5100/5100 [==============================] - 1s 148us/sample - loss: 0.6148 - accuracy: 0.8639 - val_loss: 0.6577 - val_accuracy: 0.7676\n",
      "Epoch 43/120\n",
      "5100/5100 [==============================] - 1s 146us/sample - loss: 0.6135 - accuracy: 0.8669 - val_loss: 0.6571 - val_accuracy: 0.7720\n",
      "Epoch 44/120\n",
      "5100/5100 [==============================] - 1s 144us/sample - loss: 0.6122 - accuracy: 0.8690 - val_loss: 0.6566 - val_accuracy: 0.7740\n",
      "Epoch 45/120\n",
      "5100/5100 [==============================] - 1s 154us/sample - loss: 0.6110 - accuracy: 0.8716 - val_loss: 0.6560 - val_accuracy: 0.7756\n",
      "Epoch 46/120\n",
      "5100/5100 [==============================] - 1s 147us/sample - loss: 0.6098 - accuracy: 0.8755 - val_loss: 0.6555 - val_accuracy: 0.7768\n",
      "Epoch 47/120\n",
      "5100/5100 [==============================] - 1s 147us/sample - loss: 0.6086 - accuracy: 0.8775 - val_loss: 0.6550 - val_accuracy: 0.7780\n",
      "Epoch 48/120\n",
      "5100/5100 [==============================] - 1s 147us/sample - loss: 0.6075 - accuracy: 0.8796 - val_loss: 0.6545 - val_accuracy: 0.7788\n",
      "Epoch 49/120\n",
      "5100/5100 [==============================] - 1s 147us/sample - loss: 0.6063 - accuracy: 0.8806 - val_loss: 0.6541 - val_accuracy: 0.7807\n",
      "Epoch 50/120\n",
      "5100/5100 [==============================] - 1s 147us/sample - loss: 0.6053 - accuracy: 0.8845 - val_loss: 0.6537 - val_accuracy: 0.7819\n",
      "Epoch 51/120\n",
      "5100/5100 [==============================] - 1s 148us/sample - loss: 0.6042 - accuracy: 0.8876 - val_loss: 0.6532 - val_accuracy: 0.7843\n",
      "Epoch 52/120\n",
      "5100/5100 [==============================] - 1s 147us/sample - loss: 0.6032 - accuracy: 0.8912 - val_loss: 0.6528 - val_accuracy: 0.7847\n",
      "Epoch 53/120\n",
      "5100/5100 [==============================] - 1s 147us/sample - loss: 0.6022 - accuracy: 0.8927 - val_loss: 0.6525 - val_accuracy: 0.7871\n",
      "Epoch 54/120\n",
      "5100/5100 [==============================] - 1s 146us/sample - loss: 0.6012 - accuracy: 0.8941 - val_loss: 0.6521 - val_accuracy: 0.7887\n",
      "Epoch 55/120\n",
      "5100/5100 [==============================] - 1s 147us/sample - loss: 0.6002 - accuracy: 0.8961 - val_loss: 0.6517 - val_accuracy: 0.7911\n",
      "Epoch 56/120\n",
      "5100/5100 [==============================] - 1s 147us/sample - loss: 0.5993 - accuracy: 0.8976 - val_loss: 0.6513 - val_accuracy: 0.7907\n",
      "Epoch 57/120\n",
      "5100/5100 [==============================] - 1s 149us/sample - loss: 0.5984 - accuracy: 0.8988 - val_loss: 0.6509 - val_accuracy: 0.7919\n",
      "Epoch 58/120\n",
      "5100/5100 [==============================] - 1s 146us/sample - loss: 0.5975 - accuracy: 0.9024 - val_loss: 0.6507 - val_accuracy: 0.7939\n",
      "Epoch 59/120\n",
      "5100/5100 [==============================] - 1s 149us/sample - loss: 0.5966 - accuracy: 0.9037 - val_loss: 0.6504 - val_accuracy: 0.7935\n",
      "Epoch 60/120\n",
      "5100/5100 [==============================] - 1s 148us/sample - loss: 0.5957 - accuracy: 0.9053 - val_loss: 0.6501 - val_accuracy: 0.7955\n",
      "Epoch 61/120\n",
      "5100/5100 [==============================] - 1s 149us/sample - loss: 0.5949 - accuracy: 0.9061 - val_loss: 0.6498 - val_accuracy: 0.7955\n",
      "Epoch 62/120\n",
      "5100/5100 [==============================] - 1s 151us/sample - loss: 0.5941 - accuracy: 0.9067 - val_loss: 0.6495 - val_accuracy: 0.7967\n",
      "Epoch 63/120\n",
      "5100/5100 [==============================] - 1s 148us/sample - loss: 0.5932 - accuracy: 0.9090 - val_loss: 0.6492 - val_accuracy: 0.7971\n",
      "Epoch 64/120\n",
      "5100/5100 [==============================] - 1s 147us/sample - loss: 0.5924 - accuracy: 0.9102 - val_loss: 0.6489 - val_accuracy: 0.7975\n",
      "Epoch 65/120\n",
      "5100/5100 [==============================] - 1s 147us/sample - loss: 0.5917 - accuracy: 0.9124 - val_loss: 0.6488 - val_accuracy: 0.7967\n",
      "Epoch 66/120\n",
      "5100/5100 [==============================] - 1s 145us/sample - loss: 0.5909 - accuracy: 0.9137 - val_loss: 0.6485 - val_accuracy: 0.7967\n",
      "Epoch 67/120\n",
      "5100/5100 [==============================] - 1s 144us/sample - loss: 0.5902 - accuracy: 0.9137 - val_loss: 0.6483 - val_accuracy: 0.7971\n",
      "Epoch 68/120\n",
      "5100/5100 [==============================] - 1s 145us/sample - loss: 0.5894 - accuracy: 0.9141 - val_loss: 0.6480 - val_accuracy: 0.7971\n",
      "Epoch 69/120\n",
      "5100/5100 [==============================] - 1s 147us/sample - loss: 0.5887 - accuracy: 0.9159 - val_loss: 0.6478 - val_accuracy: 0.7967\n",
      "Epoch 70/120\n",
      "5100/5100 [==============================] - 1s 148us/sample - loss: 0.5880 - accuracy: 0.9175 - val_loss: 0.6476 - val_accuracy: 0.7982\n",
      "Epoch 71/120\n",
      "5100/5100 [==============================] - 1s 146us/sample - loss: 0.5873 - accuracy: 0.9182 - val_loss: 0.6474 - val_accuracy: 0.7994\n",
      "Epoch 72/120\n",
      "5100/5100 [==============================] - 1s 157us/sample - loss: 0.5867 - accuracy: 0.9192 - val_loss: 0.6473 - val_accuracy: 0.8002\n",
      "Epoch 73/120\n",
      "5100/5100 [==============================] - 1s 139us/sample - loss: 0.5860 - accuracy: 0.9204 - val_loss: 0.6471 - val_accuracy: 0.7998\n",
      "Epoch 74/120\n",
      "5100/5100 [==============================] - 1s 145us/sample - loss: 0.5853 - accuracy: 0.9216 - val_loss: 0.6469 - val_accuracy: 0.8006\n",
      "Epoch 75/120\n",
      "5100/5100 [==============================] - 1s 140us/sample - loss: 0.5847 - accuracy: 0.9231 - val_loss: 0.6467 - val_accuracy: 0.8006\n",
      "Epoch 76/120\n",
      "5100/5100 [==============================] - 1s 143us/sample - loss: 0.5841 - accuracy: 0.9233 - val_loss: 0.6465 - val_accuracy: 0.8010\n",
      "Epoch 77/120\n",
      "5100/5100 [==============================] - 1s 146us/sample - loss: 0.5834 - accuracy: 0.9253 - val_loss: 0.6464 - val_accuracy: 0.8014\n",
      "Epoch 78/120\n",
      "5100/5100 [==============================] - 1s 142us/sample - loss: 0.5828 - accuracy: 0.9265 - val_loss: 0.6463 - val_accuracy: 0.8014\n",
      "Epoch 79/120\n",
      "5100/5100 [==============================] - 1s 142us/sample - loss: 0.5822 - accuracy: 0.9275 - val_loss: 0.6461 - val_accuracy: 0.8014\n",
      "Epoch 80/120\n",
      "5100/5100 [==============================] - 1s 140us/sample - loss: 0.5816 - accuracy: 0.9282 - val_loss: 0.6460 - val_accuracy: 0.8014\n",
      "Epoch 81/120\n",
      "5100/5100 [==============================] - 1s 144us/sample - loss: 0.5811 - accuracy: 0.9292 - val_loss: 0.6458 - val_accuracy: 0.8010\n",
      "Epoch 82/120\n",
      "5100/5100 [==============================] - 1s 143us/sample - loss: 0.5805 - accuracy: 0.9294 - val_loss: 0.6457 - val_accuracy: 0.8010\n",
      "Epoch 83/120\n",
      "5100/5100 [==============================] - 1s 145us/sample - loss: 0.5799 - accuracy: 0.9314 - val_loss: 0.6455 - val_accuracy: 0.8014\n",
      "Epoch 84/120\n",
      "5100/5100 [==============================] - 1s 145us/sample - loss: 0.5794 - accuracy: 0.9331 - val_loss: 0.6454 - val_accuracy: 0.8006\n",
      "Epoch 85/120\n",
      "5100/5100 [==============================] - 1s 142us/sample - loss: 0.5788 - accuracy: 0.9335 - val_loss: 0.6453 - val_accuracy: 0.8014\n",
      "Epoch 86/120\n",
      "5100/5100 [==============================] - 1s 147us/sample - loss: 0.5783 - accuracy: 0.9343 - val_loss: 0.6453 - val_accuracy: 0.7998\n",
      "Epoch 87/120\n",
      "5100/5100 [==============================] - 1s 143us/sample - loss: 0.5778 - accuracy: 0.9357 - val_loss: 0.6452 - val_accuracy: 0.8002\n",
      "Epoch 88/120\n",
      "5100/5100 [==============================] - 1s 139us/sample - loss: 0.5772 - accuracy: 0.9367 - val_loss: 0.6450 - val_accuracy: 0.8002\n",
      "Epoch 89/120\n",
      "5100/5100 [==============================] - 1s 143us/sample - loss: 0.5767 - accuracy: 0.9373 - val_loss: 0.6450 - val_accuracy: 0.8002\n",
      "Epoch 90/120\n",
      "5100/5100 [==============================] - 1s 142us/sample - loss: 0.5762 - accuracy: 0.9380 - val_loss: 0.6449 - val_accuracy: 0.8006\n",
      "Epoch 91/120\n",
      "5100/5100 [==============================] - 1s 142us/sample - loss: 0.5757 - accuracy: 0.9386 - val_loss: 0.6448 - val_accuracy: 0.8006\n",
      "Epoch 92/120\n",
      "5100/5100 [==============================] - 1s 142us/sample - loss: 0.5753 - accuracy: 0.9402 - val_loss: 0.6448 - val_accuracy: 0.8006\n",
      "Epoch 93/120\n",
      "5100/5100 [==============================] - 1s 149us/sample - loss: 0.5748 - accuracy: 0.9408 - val_loss: 0.6447 - val_accuracy: 0.7998\n",
      "Epoch 94/120\n",
      "5100/5100 [==============================] - 1s 150us/sample - loss: 0.5743 - accuracy: 0.9418 - val_loss: 0.6446 - val_accuracy: 0.7990\n",
      "Epoch 95/120\n",
      "5100/5100 [==============================] - 1s 152us/sample - loss: 0.5738 - accuracy: 0.9427 - val_loss: 0.6445 - val_accuracy: 0.7986\n",
      "Epoch 96/120\n",
      "5100/5100 [==============================] - 1s 148us/sample - loss: 0.5734 - accuracy: 0.9443 - val_loss: 0.6444 - val_accuracy: 0.7998\n",
      "Epoch 97/120\n",
      "5100/5100 [==============================] - 1s 151us/sample - loss: 0.5729 - accuracy: 0.9451 - val_loss: 0.6444 - val_accuracy: 0.7990\n",
      "Epoch 98/120\n",
      "5100/5100 [==============================] - 1s 149us/sample - loss: 0.5725 - accuracy: 0.9457 - val_loss: 0.6442 - val_accuracy: 0.7986\n",
      "Epoch 99/120\n",
      "5100/5100 [==============================] - 1s 155us/sample - loss: 0.5720 - accuracy: 0.9467 - val_loss: 0.6442 - val_accuracy: 0.7982\n",
      "Epoch 100/120\n",
      "5100/5100 [==============================] - 1s 147us/sample - loss: 0.5716 - accuracy: 0.9471 - val_loss: 0.6441 - val_accuracy: 0.7975\n",
      "Epoch 101/120\n",
      "5100/5100 [==============================] - 1s 150us/sample - loss: 0.5712 - accuracy: 0.9473 - val_loss: 0.6441 - val_accuracy: 0.7971\n",
      "Epoch 102/120\n",
      "5100/5100 [==============================] - 1s 150us/sample - loss: 0.5708 - accuracy: 0.9475 - val_loss: 0.6440 - val_accuracy: 0.7971\n",
      "Epoch 103/120\n",
      "5100/5100 [==============================] - 1s 149us/sample - loss: 0.5703 - accuracy: 0.9486 - val_loss: 0.6440 - val_accuracy: 0.7967\n",
      "Epoch 104/120\n",
      "5100/5100 [==============================] - 1s 158us/sample - loss: 0.5699 - accuracy: 0.9492 - val_loss: 0.6440 - val_accuracy: 0.7967\n",
      "Epoch 105/120\n",
      "5100/5100 [==============================] - 1s 151us/sample - loss: 0.5695 - accuracy: 0.9500 - val_loss: 0.6439 - val_accuracy: 0.7963\n",
      "Epoch 106/120\n",
      "5100/5100 [==============================] - 1s 148us/sample - loss: 0.5691 - accuracy: 0.9508 - val_loss: 0.6439 - val_accuracy: 0.7959\n",
      "Epoch 107/120\n",
      "5100/5100 [==============================] - 1s 148us/sample - loss: 0.5687 - accuracy: 0.9512 - val_loss: 0.6438 - val_accuracy: 0.7959\n",
      "Epoch 108/120\n",
      "5100/5100 [==============================] - 1s 151us/sample - loss: 0.5684 - accuracy: 0.9516 - val_loss: 0.6439 - val_accuracy: 0.7967\n",
      "Epoch 109/120\n",
      "5100/5100 [==============================] - 1s 149us/sample - loss: 0.5680 - accuracy: 0.9518 - val_loss: 0.6438 - val_accuracy: 0.7963\n",
      "Epoch 110/120\n",
      "5100/5100 [==============================] - 1s 151us/sample - loss: 0.5676 - accuracy: 0.9525 - val_loss: 0.6438 - val_accuracy: 0.7967\n",
      "Epoch 111/120\n",
      "5100/5100 [==============================] - 1s 149us/sample - loss: 0.5672 - accuracy: 0.9535 - val_loss: 0.6438 - val_accuracy: 0.7971\n",
      "Epoch 112/120\n",
      "5100/5100 [==============================] - 1s 155us/sample - loss: 0.5669 - accuracy: 0.9543 - val_loss: 0.6437 - val_accuracy: 0.7971\n",
      "Epoch 113/120\n",
      "5100/5100 [==============================] - 1s 147us/sample - loss: 0.5665 - accuracy: 0.9549 - val_loss: 0.6436 - val_accuracy: 0.7967\n",
      "Epoch 114/120\n",
      "5100/5100 [==============================] - 1s 147us/sample - loss: 0.5661 - accuracy: 0.9561 - val_loss: 0.6437 - val_accuracy: 0.7982\n",
      "Epoch 115/120\n",
      "5100/5100 [==============================] - 1s 150us/sample - loss: 0.5658 - accuracy: 0.9561 - val_loss: 0.6437 - val_accuracy: 0.7982\n",
      "Epoch 116/120\n",
      "5100/5100 [==============================] - 1s 149us/sample - loss: 0.5654 - accuracy: 0.9563 - val_loss: 0.6437 - val_accuracy: 0.7982\n",
      "Epoch 117/120\n",
      "5100/5100 [==============================] - 1s 150us/sample - loss: 0.5651 - accuracy: 0.9569 - val_loss: 0.6437 - val_accuracy: 0.7990\n",
      "Epoch 118/120\n",
      "5100/5100 [==============================] - 1s 151us/sample - loss: 0.5648 - accuracy: 0.9575 - val_loss: 0.6437 - val_accuracy: 0.7990\n",
      "Epoch 119/120\n",
      "5100/5100 [==============================] - 1s 151us/sample - loss: 0.5644 - accuracy: 0.9575 - val_loss: 0.6436 - val_accuracy: 0.7986\n",
      "Epoch 120/120\n",
      "5100/5100 [==============================] - 1s 151us/sample - loss: 0.5641 - accuracy: 0.9580 - val_loss: 0.6437 - val_accuracy: 0.7986\n"
     ]
    }
   ],
   "source": [
    "history = tfIdfLogisticModel.fit(x=X_train.todense(),y=y_train,#.shuffle(10000).batch(512),\n",
    "                    epochs=120,\n",
    "                   validation_data=[X_validate.todense(),y_validate],#.batch(512),\n",
    "                    verbose=1)"
   ]
  },
  {
   "cell_type": "markdown",
   "metadata": {},
   "source": [
    "## RNN model"
   ]
  },
  {
   "cell_type": "code",
   "execution_count": 45,
   "metadata": {},
   "outputs": [
    {
     "data": {
      "text/plain": [
       "3773    it may seem like our fire has been a little bu...\n",
       "4649    @allyinwondrland that sounds like the perfect ...\n",
       "2175    #?? #???? #??? #??? mh370: aircraft debris fou...\n",
       "2526    'cause right now i can read too good don't sen...\n",
       "6459    1 of the major reason of suicide bombing is th...\n",
       "                              ...                        \n",
       "1037    @scottwalker so you can send the poor and midd...\n",
       "1528    the chemical brothers to play the armory in sf...\n",
       "6375    see the 16yr old pkk suicide bomber who detona...\n",
       "3273    @carneross indeed and a remarkably puny idea t...\n",
       "2129    silence. #palermo #shipwreck #children #deaths...\n",
       "Name: lowerCase, Length: 5100, dtype: object"
      ]
     },
     "execution_count": 45,
     "metadata": {},
     "output_type": "execute_result"
    }
   ],
   "source": [
    "df_train.lowerCase"
   ]
  },
  {
   "cell_type": "code",
   "execution_count": 26,
   "metadata": {},
   "outputs": [],
   "source": [
    "train_ds = tf.data.Dataset.from_tensor_slices((df_train.lowerCase,y_train))\n",
    "dev_ds = tf.data.Dataset.from_tensor_slices((df_dev.lowerCase,y_dev))"
   ]
  },
  {
   "cell_type": "code",
   "execution_count": 4,
   "metadata": {},
   "outputs": [],
   "source": [
    "dataset = tf.data.Dataset.from_tensor_slices((rawData.lowerCase, rawData.target))"
   ]
  },
  {
   "cell_type": "code",
   "execution_count": 55,
   "metadata": {},
   "outputs": [],
   "source": [
    "model = \"https://tfhub.dev/google/tf2-preview/gnews-swivel-20dim/1\"\n",
    "hub_layer = hub.KerasLayer(model, output_shape=[20], input_shape=[], \n",
    "                           dtype=tf.string, trainable=True)\n"
   ]
  },
  {
   "cell_type": "code",
   "execution_count": 56,
   "metadata": {},
   "outputs": [],
   "source": [
    "train_examples_batch, train_labels_batch = next(iter(train_ds.batch(1)))"
   ]
  },
  {
   "cell_type": "code",
   "execution_count": 59,
   "metadata": {},
   "outputs": [
    {
     "data": {
      "text/plain": [
       "<tf.Tensor: shape=(1,), dtype=string, numpy=\n",
       "array([b'it may seem like our fire has been a little burnt out....'],\n",
       "      dtype=object)>"
      ]
     },
     "execution_count": 59,
     "metadata": {},
     "output_type": "execute_result"
    }
   ],
   "source": [
    "train_examples_batch[:1]"
   ]
  },
  {
   "cell_type": "code",
   "execution_count": 57,
   "metadata": {},
   "outputs": [
    {
     "data": {
      "text/plain": [
       "<tf.Tensor: shape=(1, 20), dtype=float32, numpy=\n",
       "array([[ 1.2411782 , -0.84538037,  0.99337894,  0.9411869 , -1.4618151 ,\n",
       "        -1.4166778 , -1.0091518 ,  1.1085716 ,  1.3682624 ,  0.3634255 ,\n",
       "         0.03297828,  1.6687071 , -0.72201407, -0.2184849 , -1.6352917 ,\n",
       "         1.2544073 ,  1.313856  , -0.73420215, -1.416537  , -0.46678862]],\n",
       "      dtype=float32)>"
      ]
     },
     "execution_count": 57,
     "metadata": {},
     "output_type": "execute_result"
    }
   ],
   "source": [
    "hub_layer(train_examples_batch[:1])"
   ]
  },
  {
   "cell_type": "code",
   "execution_count": 6,
   "metadata": {},
   "outputs": [
    {
     "data": {
      "text/plain": [
       "(<tf.Tensor: shape=(10,), dtype=string, numpy=\n",
       " array([b'our deeds are the reason of this #earthquake may allah forgive us all',\n",
       "        b'forest fire near la ronge sask. canada',\n",
       "        b\"all residents asked to 'shelter in place' are being notified by officers. no other evacuation or shelter in place orders are expected\",\n",
       "        b'13,000 people receive #wildfires evacuation orders in california ',\n",
       "        b'just got sent this photo from ruby #alaska as smoke from #wildfires pours into a school ',\n",
       "        b'#rockyfire update => california hwy. 20 closed in both directions due to lake county fire - #cafire #wildfires',\n",
       "        b'#flood #disaster heavy rain causes flash flooding of streets in manitou, colorado springs areas',\n",
       "        b\"i'm on top of the hill and i can see a fire in the woods...\",\n",
       "        b\"there's an emergency evacuation happening now in the building across the street\",\n",
       "        b\"i'm afraid that the tornado is coming to our area...\"],\n",
       "       dtype=object)>,\n",
       " <tf.Tensor: shape=(10,), dtype=int32, numpy=array([1, 1, 1, 1, 1, 1, 1, 1, 1, 1], dtype=int32)>)"
      ]
     },
     "execution_count": 6,
     "metadata": {},
     "output_type": "execute_result"
    }
   ],
   "source": [
    "next(iter(dataset.batch(10)))"
   ]
  },
  {
   "cell_type": "code",
   "execution_count": null,
   "metadata": {},
   "outputs": [],
   "source": [
    "train_dataset =\n",
    "test_dataset ="
   ]
  },
  {
   "cell_type": "code",
   "execution_count": 93,
   "metadata": {},
   "outputs": [],
   "source": [
    "model = tf.keras.Sequential([\n",
    "    tf.keras.layers.Embedding(encoder.vocab_size, 64),\n",
    "    tf.keras.layers.Bidirectional(tf.keras.layers.RNN(64)),\n",
    "    tf.keras.layers.Dense(64, activation='relu'),\n",
    "    tf.keras.layers.Dense(1)\n",
    "])"
   ]
  },
  {
   "cell_type": "code",
   "execution_count": null,
   "metadata": {},
   "outputs": [],
   "source": [
    "model.compile(loss=tf.keras.losses.BinaryCrossentropy(from_logits=True),\n",
    "              optimizer=tf.keras.optimizers.Adam(1e-4),\n",
    "              metrics=['accuracy'])"
   ]
  },
  {
   "cell_type": "code",
   "execution_count": 91,
   "metadata": {},
   "outputs": [],
   "source": [
    "history = model.fit(train_dataset, epochs=10,\n",
    "                    validation_data=test_dataset, \n",
    "                    validation_steps=30)"
   ]
  },
  {
   "cell_type": "code",
   "execution_count": 36,
   "metadata": {},
   "outputs": [],
   "source": [
    "x = np.array(np.arange(100)/100)"
   ]
  },
  {
   "cell_type": "code",
   "execution_count": 123,
   "metadata": {},
   "outputs": [],
   "source": [
    "x = Uniform distributed [0,1]\n",
    "x_max = 0.1 # upper boundary\n",
    "x_min  =0.01 # lower boundary\n",
    "par = 5 # parameter, the larger, the more exploration of values close to zero\n",
    "y= (x_max)*(np.exp(-(par*x))) OR  y= (x_max/(x_min+1))*(np.exp(-(par*x)))+x_min # la deuxieme si tu veux setter un lower boundary"
   ]
  },
  {
   "cell_type": "code",
   "execution_count": 132,
   "metadata": {},
   "outputs": [],
   "source": [
    "y= (x_max)*(np.exp(-(par*x)))"
   ]
  },
  {
   "cell_type": "code",
   "execution_count": 133,
   "metadata": {},
   "outputs": [
    {
     "data": {
      "text/plain": [
       "array([0.  , 0.01, 0.02, 0.03, 0.04, 0.05, 0.06, 0.07, 0.08, 0.09, 0.1 ,\n",
       "       0.11, 0.12, 0.13, 0.14, 0.15, 0.16, 0.17, 0.18, 0.19, 0.2 , 0.21,\n",
       "       0.22, 0.23, 0.24, 0.25, 0.26, 0.27, 0.28, 0.29, 0.3 , 0.31, 0.32,\n",
       "       0.33, 0.34, 0.35, 0.36, 0.37, 0.38, 0.39, 0.4 , 0.41, 0.42, 0.43,\n",
       "       0.44, 0.45, 0.46, 0.47, 0.48, 0.49, 0.5 , 0.51, 0.52, 0.53, 0.54,\n",
       "       0.55, 0.56, 0.57, 0.58, 0.59, 0.6 , 0.61, 0.62, 0.63, 0.64, 0.65,\n",
       "       0.66, 0.67, 0.68, 0.69, 0.7 , 0.71, 0.72, 0.73, 0.74, 0.75, 0.76,\n",
       "       0.77, 0.78, 0.79, 0.8 , 0.81, 0.82, 0.83, 0.84, 0.85, 0.86, 0.87,\n",
       "       0.88, 0.89, 0.9 , 0.91, 0.92, 0.93, 0.94, 0.95, 0.96, 0.97, 0.98,\n",
       "       0.99])"
      ]
     },
     "execution_count": 133,
     "metadata": {},
     "output_type": "execute_result"
    }
   ],
   "source": [
    "x"
   ]
  },
  {
   "cell_type": "code",
   "execution_count": 135,
   "metadata": {},
   "outputs": [
    {
     "data": {
      "text/plain": [
       "[<matplotlib.lines.Line2D at 0x7f20884862d0>]"
      ]
     },
     "execution_count": 135,
     "metadata": {},
     "output_type": "execute_result"
    },
    {
     "data": {
      "image/png": "[encoded data removed]",
      "text/plain": [
       "<Figure size 1080x504 with 1 Axes>"
      ]
     },
     "metadata": {
      "needs_background": "light"
     },
     "output_type": "display_data"
    }
   ],
   "source": [
    "plt.plot(x,y)\n",
    "#plt.yscale(\"log\")"
   ]
  },
  {
   "cell_type": "code",
   "execution_count": null,
   "metadata": {},
   "outputs": [],
   "source": []
  },
  {
   "cell_type": "code",
   "execution_count": null,
   "metadata": {},
   "outputs": [],
   "source": []
  }
 ],
 "metadata": {
  "kernelspec": {
   "display_name": "Python [default]",
   "language": "python",
   "name": "python3"
  },
  "language_info": {
   "codemirror_mode": {
    "name": "ipython",
    "version": 3
   },
   "file_extension": ".py",
   "mimetype": "text/x-python",
   "name": "python",
   "nbconvert_exporter": "python",
   "pygments_lexer": "ipython3",
   "version": "3.5.6"
  }
 },
 "nbformat": 4,
 "nbformat_minor": 4
}
